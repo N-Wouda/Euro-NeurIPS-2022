{
 "cells": [
  {
   "cell_type": "markdown",
   "id": "7b367333",
   "metadata": {},
   "source": [
    "# Baseline performance\n",
    "In this notebook, I analyze the results for the baseline HGS-VRPTW implementation by [1]. \n",
    "\n",
    "I ran the original baseline implementation for two different experiments:\n",
    "1. 20K NoImprovement, timeLimit"
   ]
  },
  {
   "cell_type": "code",
   "execution_count": null,
   "id": "532ede63",
   "metadata": {},
   "outputs": [],
   "source": []
  }
 ],
 "metadata": {
  "kernelspec": {
   "display_name": "Python 3 (ipykernel)",
   "language": "python",
   "name": "python3"
  },
  "language_info": {
   "codemirror_mode": {
    "name": "ipython",
    "version": 3
   },
   "file_extension": ".py",
   "mimetype": "text/x-python",
   "name": "python",
   "nbconvert_exporter": "python",
   "pygments_lexer": "ipython3",
   "version": "3.9.12"
  }
 },
 "nbformat": 4,
 "nbformat_minor": 5
}
