{
 "cells": [
  {
   "cell_type": "markdown",
   "metadata": {},
   "source": [
    "# Predict bad LS moves\n",
    "\n",
    "This notebook develops simple models for predicting bad local search moves. Particularly, given routes $R_U$ and $R_V$, it predicts whether the route-based LS operators we currently have are likely to produce an improving solution if the operator were to be applied to these route pairs."
   ]
  },
  {
   "cell_type": "code",
   "execution_count": 1,
   "metadata": {},
   "outputs": [
    {
     "name": "stdout",
     "output_type": "stream",
     "text": [
      "D:\\Projects\\Python\\Euro-NeurIPS-2022\n"
     ]
    }
   ],
   "source": [
    "%cd .."
   ]
  },
  {
   "cell_type": "code",
   "execution_count": 2,
   "metadata": {},
   "outputs": [],
   "source": [
    "%matplotlib inline"
   ]
  },
  {
   "cell_type": "code",
   "execution_count": 3,
   "metadata": {},
   "outputs": [],
   "source": [
    "from collections import defaultdict\n",
    "from contextlib import suppress\n",
    "from dataclasses import dataclass\n",
    "from enum import IntEnum\n",
    "from glob import glob\n",
    "from functools import cache\n",
    "import itertools\n",
    "from pathlib import Path\n",
    "import re\n",
    "from typing import Optional\n",
    "\n",
    "import numpy as np\n",
    "import numpy.random as rnd\n",
    "import matplotlib.pyplot as plt\n",
    "\n",
    "from sklearn.linear_model import SGDClassifier\n",
    "from sklearn.metrics import classification_report\n",
    "from sklearn.metrics import ConfusionMatrixDisplay\n",
    "from sklearn.metrics import precision_recall_fscore_support as score\n",
    "from sklearn.model_selection import KFold\n",
    "from sklearn.utils import resample\n",
    "\n",
    "import tools"
   ]
  },
  {
   "cell_type": "code",
   "execution_count": 4,
   "metadata": {},
   "outputs": [],
   "source": [
    "DATA_PATH = Path(\"data/raw/\")\n",
    "INST_PATH = Path(\"instances/\")"
   ]
  },
  {
   "cell_type": "markdown",
   "metadata": {},
   "source": [
    "## Utilities\n",
    "\n",
    "These are used to parse the raw results for a single instance into something that contains the same data, but in a more workable format."
   ]
  },
  {
   "cell_type": "code",
   "execution_count": 5,
   "metadata": {},
   "outputs": [],
   "source": [
    "@dataclass\n",
    "class Route:\n",
    "    clients: list[int]\n",
    "    load: int\n",
    "    tw: int\n",
    "\n",
    "    def index(self, client: int) -> int:\n",
    "        return self.clients.index(client)\n",
    "\n",
    "    def __getitem__(self, idx: int) -> int:\n",
    "        return self.clients[idx]\n",
    "\n",
    "    def __len__(self) -> int:\n",
    "        return len(self.clients)\n",
    "\n",
    "\n",
    "@dataclass\n",
    "class Record:\n",
    "    op: int\n",
    "    delta: int\n",
    "    Ru: tuple[Route, Optional[Route]]  # tuples of (before, after). After only\n",
    "    Rv: tuple[Route, Optional[Route]]  # when delta is negative.\n",
    "\n",
    "\n",
    "def parse_file(file: str) -> list[Record]:\n",
    "    def parse_record(record: list[str]) -> Record:\n",
    "        op, delta = map(int, record[0].split(\" \"))\n",
    "        _, *Ru = map(int, re.findall('[0-9]+', record[1].strip()))\n",
    "        _, *Rv = map(int, re.findall('[0-9]+', record[2].strip()))\n",
    "        Lu, Lv = map(int, record[3].split(\" \"))\n",
    "        TWu, TWv = map(int, record[4].split(\" \"))\n",
    "\n",
    "        uRouteBefore = Route(Ru, Lu, TWu)  # before\n",
    "        vRouteBefore = Route(Rv, Lv, TWv)  # before\n",
    "        \n",
    "        uRouteAfter = None\n",
    "        vRouteAfter = None\n",
    "        \n",
    "        if delta < 0:\n",
    "            _, *Ru = map(int, re.findall('[0-9]+', record[5].strip()))\n",
    "            _, *Rv = map(int, re.findall('[0-9]+', record[6].strip()))\n",
    "            Lu, Lv = map(int, record[7].split(\" \"))\n",
    "            TWu, TWv = map(int, record[8].split(\" \"))\n",
    "            \n",
    "            uRouteAfter = Route(Ru, Lu, TWu)\n",
    "            vRouteAfter = Route(Rv, Lv, TWv)\n",
    "\n",
    "        return Record(op, \n",
    "                      delta, \n",
    "                      (uRouteBefore, uRouteAfter), \n",
    "                      (vRouteBefore, vRouteAfter))\n",
    "\n",
    "    with open(file, 'r') as fh:\n",
    "        records = []\n",
    "        lines = fh.readlines()\n",
    "        idx = 0\n",
    "\n",
    "        while idx != len(lines):\n",
    "            try:\n",
    "                op, delta = map(int, lines[idx].split(\" \"))\n",
    "\n",
    "                if delta < 0:\n",
    "                    record = lines[idx : idx + 9]\n",
    "                    records.append(parse_record(record))\n",
    "                    idx += 9\n",
    "                else:\n",
    "                    record = lines[idx : idx + 5]\n",
    "                    records.append(parse_record(record))\n",
    "                    idx += 5\n",
    "            except:\n",
    "                print(f\"{file}: exception at {idx} of {len(lines)}; returning\")\n",
    "                return records\n",
    "\n",
    "        return records"
   ]
  },
  {
   "cell_type": "markdown",
   "metadata": {},
   "source": [
    "## Data and feature generation"
   ]
  },
  {
   "cell_type": "markdown",
   "metadata": {},
   "source": [
    "Operators (in the order of `main.cpp`):\n",
    "\n",
    "0. RELOCATE*\n",
    "1. SWAP*"
   ]
  },
  {
   "cell_type": "code",
   "execution_count": 33,
   "metadata": {},
   "outputs": [],
   "source": [
    "class Features(IntEnum):\n",
    "    TW_U_INFEAS = 0\n",
    "    TW_V_INFEAS = 1\n",
    "    LD_U_INFEAS = 2\n",
    "    LD_V_INFEAS = 3\n",
    "    U_SIZE = 4\n",
    "    V_SIZE = 5\n",
    "    UV_ANGLE_DIFF = 6\n",
    "    MAX_UDEPOT_DIST = 7\n",
    "    MAX_VDEPOT_DIST = 8"
   ]
  },
  {
   "cell_type": "code",
   "execution_count": 34,
   "metadata": {},
   "outputs": [],
   "source": [
    "def angle(dx, dy):\n",
    "    if dy < 0:\n",
    "        return -abs(1 - dx / (abs(dx) + abs(dy)))\n",
    "\n",
    "    return abs(1 - dx / (abs(dx) + abs(dy)))\n",
    "\n",
    "\n",
    "def pseudo_angle(coords, idcs):\n",
    "    if len(idcs) == 0:\n",
    "        return 0\n",
    "\n",
    "    dx = coords[idcs][:, 0].mean() - coords[0, 0]\n",
    "    dy = coords[idcs][:, 1].mean() - coords[0, 1]\n",
    "\n",
    "    return angle(dx, dy)"
   ]
  },
  {
   "cell_type": "code",
   "execution_count": 35,
   "metadata": {},
   "outputs": [],
   "source": [
    "def make_features(instance: dict, records: list[Record]) -> np.array:\n",
    "    data = np.zeros((len(records), len(Features)))\n",
    "    coords = instance['coords']\n",
    "    dist = instance['duration_matrix']\n",
    "    max_dist = dist.max()\n",
    "\n",
    "    for idx, record in enumerate(records):\n",
    "        uRouteBefore, uRouteAfter = record.Ru\n",
    "        vRouteBefore, vRouteAfter = record.Rv\n",
    "\n",
    "        data[idx, Features.TW_U_INFEAS] = uRouteBefore.tw > 0\n",
    "        data[idx, Features.TW_V_INFEAS] = vRouteBefore.tw > 0\n",
    "\n",
    "        data[idx, Features.LD_U_INFEAS] = uRouteBefore.load > instance['capacity']\n",
    "        data[idx, Features.LD_V_INFEAS] = vRouteBefore.load > instance['capacity']\n",
    "\n",
    "        data[idx, Features.U_SIZE] = len(uRouteBefore) / len(coords)\n",
    "        data[idx, Features.V_SIZE] = len(vRouteBefore) / len(coords)\n",
    "\n",
    "        uAngle = pseudo_angle(coords, uRouteBefore.clients)\n",
    "        vAngle = pseudo_angle(coords, vRouteBefore.clients)\n",
    "\n",
    "        assert -2 <= uAngle <= 2, f\"Got: {uAngle} for {uRouteBefore}\"\n",
    "        assert -2 <= vAngle <= 2, f\"Got: {vAngle} for {vRouteBefore}\"\n",
    "\n",
    "        data[idx, Features.UV_ANGLE_DIFF] = vAngle - uAngle  # in [-4, 4]\n",
    "        \n",
    "        if len(uRouteBefore):\n",
    "            idx_mx_u = max(range(len(uRouteBefore)), \n",
    "                           key=lambda idx: dist[0, uRouteBefore[idx]])\n",
    "            data[idx, Features.MAX_UDEPOT_DIST] = dist[0, uRouteBefore[idx_mx_u]] / max_dist\n",
    "\n",
    "        if len(vRouteBefore):\n",
    "            idx_mx_v = max(range(len(vRouteBefore)), \n",
    "                           key=lambda idx: dist[0, vRouteBefore[idx]])\n",
    "            data[idx, Features.MAX_VDEPOT_DIST] = dist[0, vRouteBefore[idx_mx_v]] / max_dist\n",
    "        \n",
    "    return data"
   ]
  },
  {
   "cell_type": "code",
   "execution_count": 40,
   "metadata": {},
   "outputs": [],
   "source": [
    "def make_or_retrieve_data(file_loc: str) -> tuple[np.array, np.array]:\n",
    "    cache_loc = DATA_PATH / (Path(file_loc).stem + '.npz')\n",
    "\n",
    "    if cache_loc.exists():\n",
    "        file = np.load(cache_loc)\n",
    "        # TODO remove :-1 when creating new files\n",
    "        return file['X'][:, :-1], file['y']                \n",
    "\n",
    "    instance = tools.read_vrplib(INST_PATH / file_loc)\n",
    "    records = parse_file(DATA_PATH / file_loc)\n",
    "\n",
    "    y = np.array([int(record.delta < 0) for record in records])\n",
    "    X = make_features(instance, records)\n",
    "\n",
    "    np.savez(cache_loc, X=X, y=y)\n",
    "    return X, y"
   ]
  },
  {
   "cell_type": "markdown",
   "metadata": {},
   "source": [
    "## Training and evaluation"
   ]
  },
  {
   "cell_type": "code",
   "execution_count": 41,
   "metadata": {},
   "outputs": [],
   "source": [
    "files = sorted([Path(file.name) for file in DATA_PATH.glob(\"ORTEC-*.txt\")])"
   ]
  },
  {
   "cell_type": "code",
   "execution_count": 42,
   "metadata": {},
   "outputs": [
    {
     "data": {
      "text/plain": [
       "0.002314431465259039"
      ]
     },
     "execution_count": 42,
     "metadata": {},
     "output_type": "execute_result"
    }
   ],
   "source": [
    "avg = [make_or_retrieve_data(file)[1].mean() for file in files]\n",
    "np.mean(avg)"
   ]
  },
  {
   "cell_type": "code",
   "execution_count": 43,
   "metadata": {},
   "outputs": [
    {
     "name": "stdout",
     "output_type": "stream",
     "text": [
      "              precision    recall  f1-score   support\n",
      "\n",
      "           0       1.00      0.49      0.66    170515\n",
      "           1       0.00      0.66      0.00       185\n",
      "\n",
      "    accuracy                           0.49    170700\n",
      "   macro avg       0.50      0.58      0.33    170700\n",
      "weighted avg       1.00      0.49      0.66    170700\n",
      "\n"
     ]
    },
    {
     "data": {
      "text/plain": [
       "<sklearn.metrics._plot.confusion_matrix.ConfusionMatrixDisplay at 0x2c0ad626430>"
      ]
     },
     "execution_count": 43,
     "metadata": {},
     "output_type": "execute_result"
    },
    {
     "data": {
      "image/png": "[encoded data removed]",
      "text/plain": [
       "<Figure size 640x480 with 2 Axes>"
      ]
     },
     "metadata": {},
     "output_type": "display_data"
    }
   ],
   "source": [
    "model = SGDClassifier(loss=\"log_loss\", random_state=1)\n",
    "\n",
    "X, y = make_or_retrieve_data(files[0])\n",
    "X_maj, X_min = X[y == 0, :], X[y == 1, :]\n",
    "\n",
    "# Downsample dominant class\n",
    "X_maj = resample(X_maj, replace=False, n_samples=y.sum(), random_state=123)\n",
    "\n",
    "X_train = np.vstack([X_min, X_maj])\n",
    "y_train = np.hstack([np.ones(y.sum()), np.zeros(y.sum())])\n",
    "\n",
    "model.fit(X_train, y_train)\n",
    "\n",
    "X_test, y_test = make_or_retrieve_data(files[1])\n",
    "y_pred = model.predict(X_test)\n",
    "\n",
    "print(classification_report(y_test, y_pred))\n",
    "ConfusionMatrixDisplay.from_predictions(y_test, y_pred, \n",
    "                                        normalize='true', \n",
    "                                        cmap='Blues',\n",
    "                                        values_format='.1%')"
   ]
  },
  {
   "cell_type": "code",
   "execution_count": 44,
   "metadata": {},
   "outputs": [],
   "source": [
    "def do_kfold(n_splits: int, n_iters: int, files: list[Path]) -> list:\n",
    "    kf = KFold(n_splits=n_splits, shuffle=True, random_state=0)\n",
    "    fold_results = []\n",
    "\n",
    "    for fold_idx, (train, test) in enumerate(kf.split(files), 1):\n",
    "        print(f\"Fold {fold_idx}\")\n",
    "        rnd_state = rnd.RandomState(fold_idx)\n",
    "        model = SGDClassifier(loss=\"log_loss\", random_state=rnd_state)\n",
    "\n",
    "        for _ in range(n_iters):\n",
    "            rnd_state.shuffle(train)\n",
    "\n",
    "            for idx in train:\n",
    "                X, y = make_or_retrieve_data(files[idx])\n",
    "\n",
    "                # Downsample dominant class to combat bias a bit (since\n",
    "                # improving moves are << 1% of total moves)\n",
    "                X_maj, X_min = X[y == 0, :], X[y == 1, :]\n",
    "                X_maj = resample(X_maj, \n",
    "                                 replace=False,\n",
    "                                 n_samples=y.sum(),\n",
    "                                 random_state=rnd_state)\n",
    "\n",
    "                X_train = np.vstack([X_min, X_maj])\n",
    "                y_train = np.hstack([np.ones(y.sum()), np.zeros(y.sum())])\n",
    "\n",
    "                model.partial_fit(X_train, y_train, [0, 1])\n",
    "\n",
    "        scores = []\n",
    "        for idx in test:\n",
    "            X_test, y_test = make_or_retrieve_data(files[idx])\n",
    "            precision, recall, f1score, _ = score(y_test,\n",
    "                                                  model.predict(X_test),\n",
    "                                                  average='weighted',\n",
    "                                                  zero_division='warn')\n",
    "\n",
    "            # Precision: number of relevant documents retrieved by a search \n",
    "            #            divided by the total number of documents retrieved\n",
    "            # Recall: number of relevant documents retrieved by a search \n",
    "            #         divided by the total number of existing relevant documents\n",
    "            # F1 score: 2 * (precision * recall) / (precision + recall)\n",
    "            scores.append([precision, recall, f1score])\n",
    "\n",
    "        mean_scores = np.mean(scores, axis=0)\n",
    "        fold_results.append([mean_scores, model.coef_[0], model.intercept_])\n",
    "\n",
    "    return fold_results"
   ]
  },
  {
   "cell_type": "code",
   "execution_count": 45,
   "metadata": {},
   "outputs": [
    {
     "name": "stdout",
     "output_type": "stream",
     "text": [
      "Fold 1\n",
      "Fold 2\n",
      "Fold 3\n",
      "Fold 4\n",
      "Fold 5\n"
     ]
    }
   ],
   "source": [
    "vals = do_kfold(n_splits=5, n_iters=50, files=files)"
   ]
  },
  {
   "cell_type": "markdown",
   "metadata": {},
   "source": [
    "Folding results: precision, recall, and F1 score. The best folding result (according to F1 score) is marked with a \\*, but the coefficients and performance should all be roughly similar across folds."
   ]
  },
  {
   "cell_type": "code",
   "execution_count": 46,
   "metadata": {},
   "outputs": [
    {
     "name": "stdout",
     "output_type": "stream",
     "text": [
      "   FOLD: 1\n",
      "   PREC: 0.996\n",
      " RECALL: 0.608\n",
      "     F1: 0.732\n",
      " COEFFS:  -0.38   0.49   0.36   0.79   0.68   0.68  -1.87   0.27  -0.29   1.09 \n",
      "\n",
      "   FOLD: 2\n",
      "   PREC: 0.996\n",
      " RECALL: 0.785\n",
      "*    F1: 0.872\n",
      " COEFFS:  -0.45   0.50   0.37   0.78   0.66   0.59  -1.74   0.25  -0.30   1.04 \n",
      "\n",
      "   FOLD: 3\n",
      "   PREC: 0.996\n",
      " RECALL: 0.440\n",
      "     F1: 0.576\n",
      " COEFFS:  -0.25   0.51   0.41   0.80   0.66   0.40  -1.92   0.18  -0.31   1.02 \n",
      "\n",
      "   FOLD: 4\n",
      "   PREC: 0.996\n",
      " RECALL: 0.621\n",
      "     F1: 0.745\n",
      " COEFFS:  -0.36   0.47   0.34   0.71   0.61   0.57  -1.96   0.33  -0.32   1.11 \n",
      "\n",
      "   FOLD: 5\n",
      "   PREC: 0.996\n",
      " RECALL: 0.441\n",
      "     F1: 0.556\n",
      " COEFFS:  -0.32   0.46   0.35   0.75   0.60   0.58  -1.96   0.28  -0.20   1.13 \n",
      "\n"
     ]
    }
   ],
   "source": [
    "idx_max = max(range(len(vals)), key=lambda idx: vals[idx][0][2])\n",
    "\n",
    "for idx, ((p, r, f1), coefs, intercept) in enumerate(vals, 1):\n",
    "    print(f\"   FOLD: {idx}\")\n",
    "    print(f\"   PREC: {p:.3f}\")\n",
    "    print(f\" RECALL: {r:.3f}\")\n",
    "    print(\"*\" if idx - 1 == idx_max else \" \", f\"   F1: {f1:.3f}\")\n",
    "\n",
    "    coefs = [intercept[0]] + coefs.tolist()\n",
    "    fmt = \"{:6.2f} \" * len(coefs)\n",
    "    print(f\" COEFFS: {fmt.format(*coefs)}\", end=\"\\n\\n\")"
   ]
  },
  {
   "cell_type": "code",
   "execution_count": null,
   "metadata": {},
   "outputs": [],
   "source": []
  }
 ],
 "metadata": {
  "kernelspec": {
   "display_name": "Python 3 (ipykernel)",
   "language": "python",
   "name": "python3"
  },
  "language_info": {
   "codemirror_mode": {
    "name": "ipython",
    "version": 3
   },
   "file_extension": ".py",
   "mimetype": "text/x-python",
   "name": "python",
   "nbconvert_exporter": "python",
   "pygments_lexer": "ipython3",
   "version": "3.9.9"
  }
 },
 "nbformat": 4,
 "nbformat_minor": 4
}
