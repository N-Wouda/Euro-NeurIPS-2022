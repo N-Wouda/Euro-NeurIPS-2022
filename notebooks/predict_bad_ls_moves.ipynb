{
 "cells": [
  {
   "cell_type": "markdown",
   "metadata": {},
   "source": [
    "# Predict bad LS moves\n",
    "\n",
    "This notebook develops simple models for predicting bad local search moves. Particularly, given nodes $U$ and $V$ in routes $R_U$ and $R_V$, it predicts whether each LS operator we currently have is likely to produce an improving solution if the operator were applied to these node pairs $U$ and $V$.\n",
    "\n",
    "The motivation is that evaluating a full operator move is typically somewhat slow, whereas a fast and reasonably accurate prediction method can completely avoid such evaluations.\n",
    "\n",
    "TODO:\n",
    "- New data on all U/V combinations, not just neighbourhood restricted.\n",
    "- Penalties? For feasibility?\n",
    "- Learning rate and validation stuff?\n",
    "- Better feature generation"
   ]
  },
  {
   "cell_type": "code",
   "execution_count": 1,
   "metadata": {},
   "outputs": [
    {
     "name": "stdout",
     "output_type": "stream",
     "text": [
      "D:\\Projects\\Python\\Euro-NeurIPS-2022\n"
     ]
    }
   ],
   "source": [
    "%cd .."
   ]
  },
  {
   "cell_type": "code",
   "execution_count": 2,
   "metadata": {},
   "outputs": [],
   "source": [
    "%matplotlib inline"
   ]
  },
  {
   "cell_type": "code",
   "execution_count": 3,
   "metadata": {},
   "outputs": [],
   "source": [
    "from collections import defaultdict\n",
    "from dataclasses import dataclass\n",
    "from glob import glob\n",
    "import itertools\n",
    "from pathlib import Path\n",
    "import re\n",
    "\n",
    "import numpy as np\n",
    "import matplotlib.pyplot as plt\n",
    "\n",
    "from sklearn.linear_model import SGDClassifier\n",
    "from sklearn.metrics import classification_report, confusion_matrix, ConfusionMatrixDisplay\n",
    "from sklearn.model_selection import KFold\n",
    "\n",
    "import tools"
   ]
  },
  {
   "cell_type": "code",
   "execution_count": 4,
   "metadata": {},
   "outputs": [],
   "source": [
    "DATA_PATH = Path(\"data/raw/\")\n",
    "INST_PATH = Path(\"instances/\")"
   ]
  },
  {
   "cell_type": "markdown",
   "metadata": {},
   "source": [
    "## Utilities\n",
    "\n",
    "These can be used to quickly parse the raw results for a single instance into something that contains the same data, but in a more workable format."
   ]
  },
  {
   "cell_type": "code",
   "execution_count": 5,
   "metadata": {},
   "outputs": [],
   "source": [
    "@dataclass\n",
    "class Record:\n",
    "    op: int\n",
    "    U: int\n",
    "    V: int\n",
    "    delta: int\n",
    "    Ru: list[int]\n",
    "    Rv: list[int]\n",
    "\n",
    "def parse_file(file: str):\n",
    "    def parse_record(record: list[str]) -> Record:\n",
    "        op = int(record[0].strip())\n",
    "        U, V, delta = map(int, record[1].strip().split(\" \"))\n",
    "        _, *Ru = map(int, re.findall('[0-9]+', record[2].strip()))\n",
    "        _, *Rv = map(int, re.findall('[0-9]+', record[3].strip()))\n",
    "\n",
    "        return Record(op, U, V, delta, Ru, Rv)\n",
    "\n",
    "    with open(file, 'r') as fh:\n",
    "        args = [iter(fh)] * 4\n",
    "        records = zip(*args)\n",
    "\n",
    "        # This could have been a generator, but each file is only 100-ish MB\n",
    "        # in size, so that comfortably fits in memory.\n",
    "        return [parse_record(record) for record in records]"
   ]
  },
  {
   "cell_type": "markdown",
   "metadata": {},
   "source": [
    "## Data and feature generation"
   ]
  },
  {
   "cell_type": "code",
   "execution_count": 6,
   "metadata": {},
   "outputs": [],
   "source": [
    "instance_locs = sorted(list(INST_PATH.glob(\"ORTEC-*.txt\")))\n",
    "data_locs = sorted(list(DATA_PATH.glob(\"ORTEC-*.txt\")))"
   ]
  },
  {
   "cell_type": "markdown",
   "metadata": {},
   "source": [
    "Operators:\n",
    "\n",
    "0. $(1, 0)$-Exchange\n",
    "1. $(2, 0)$-Exchange\n",
    "2. $(2, 0)$-Reverse-Exchange\n",
    "3. $(2, 2)$-Exchange\n",
    "4. $(2, 1)$-Exchange\n",
    "5. $(1, 1)$-Exchange\n",
    "6. 2-OPT"
   ]
  },
  {
   "cell_type": "code",
   "execution_count": 7,
   "metadata": {},
   "outputs": [],
   "source": [
    "def make_features(instance, records):\n",
    "    dist = instance['duration_matrix']\n",
    "    dist_max = dist.max()\n",
    "\n",
    "    loads = instance['demands']\n",
    "    tw = instance['time_windows']\n",
    "    max_tw_range = tw[0, 1]\n",
    "\n",
    "    # TODO operator specific stuff\n",
    "\n",
    "    data = []\n",
    "    num_features = 10\n",
    "\n",
    "    for record in records:\n",
    "        if record.op == 6:\n",
    "            # TODO 2-OPT?\n",
    "            data.append([0] * num_features)\n",
    "            continue\n",
    "\n",
    "        idx_u = record.Ru.index(record.U) if record.U != 0 else -1\n",
    "        idx_v = record.Rv.index(record.V) if record.V != 0 else -1\n",
    "\n",
    "        # TODO distances should depend on operator\n",
    "        pu = 0 if idx_u <= 0 else record.Ru[idx_u - 1]\n",
    "        pv = 0 if idx_v <= 0 else record.Rv[idx_v - 1]\n",
    "\n",
    "        nu = 0 if idx_u == len(record.Ru) - 1 else record.Ru[idx_u + 1]\n",
    "        nv = 0 if idx_v == len(record.Rv) - 1 else record.Rv[idx_v + 1]\n",
    "\n",
    "        # Distances\n",
    "        dist_puv = dist[pu, record.V] / dist_max\n",
    "        dist_pvu = dist[pv, record.U] / dist_max\n",
    "\n",
    "        dist_uv = dist[record.V, record.U] / dist_max\n",
    "        dist_vu = dist[record.U, record.V] / dist_max\n",
    "\n",
    "        dist_nvu = dist[nv, record.U] / dist_max\n",
    "        dist_nuv = dist[nu, record.V] / dist_max\n",
    "        \n",
    "        # Time window range\n",
    "        tw_u_start, tw_u_end = tw[record.U]\n",
    "        tw_u_range = (tw_u_end - tw_u_start) / max_tw_range\n",
    "\n",
    "        tw_v_start, tw_v_end = tw[record.V]\n",
    "        tw_v_range = (tw_v_end - tw_v_start) / max_tw_range\n",
    "\n",
    "        # Load feasibility\n",
    "        load_u = loads[record.Ru].sum()\n",
    "        load_v = loads[record.Rv].sum()\n",
    "        \n",
    "        u_load_feasible = load_u <= instance['capacity']\n",
    "        v_load_feasible = load_v <= instance['capacity']\n",
    "\n",
    "        data.append([dist_puv, dist_pvu, dist_uv, dist_vu, dist_nvu, dist_nuv, tw_u_range, tw_v_range, u_load_feasible, v_load_feasible])\n",
    "\n",
    "    return np.array(data)"
   ]
  },
  {
   "cell_type": "code",
   "execution_count": 8,
   "metadata": {},
   "outputs": [],
   "source": [
    "def make_data(file_loc: str):\n",
    "    instance = tools.read_vrplib(INST_PATH / file_loc)\n",
    "    records = parse_file(DATA_PATH / file_loc)\n",
    "\n",
    "    y = np.array([int(record.delta < 0) for record in records])\n",
    "    X = make_features(instance, records)\n",
    "\n",
    "    return X, y"
   ]
  },
  {
   "cell_type": "markdown",
   "metadata": {},
   "source": [
    "## Training"
   ]
  },
  {
   "cell_type": "code",
   "execution_count": 9,
   "metadata": {},
   "outputs": [],
   "source": [
    "X_train, y_train = make_data('ORTEC-VRPTW-ASYM-1de83915-d1-n262-k15.txt')\n",
    "X_test, y_test = make_data('ORTEC-VRPTW-ASYM-e7835db2-d1-n650-k42.txt')"
   ]
  },
  {
   "cell_type": "markdown",
   "metadata": {},
   "source": [
    "Class weight appears to be roughly ~0.3% for number of improving moves afer 10s. See next figure:"
   ]
  },
  {
   "cell_type": "code",
   "execution_count": 10,
   "metadata": {},
   "outputs": [
    {
     "data": {
      "image/png": "[encoded data removed]",
      "text/plain": [
       "<Figure size 640x480 with 1 Axes>"
      ]
     },
     "metadata": {},
     "output_type": "display_data"
    }
   ],
   "source": [
    "_, ax = plt.subplots()\n",
    "ax.set_yscale('log')\n",
    "ax.plot(np.cumsum(y_test) / np.arange(1, len(y_test) + 1))\n",
    "ax.plot(np.cumsum(y_train) / np.arange(1, len(y_train) + 1));"
   ]
  },
  {
   "cell_type": "code",
   "execution_count": 11,
   "metadata": {},
   "outputs": [],
   "source": [
    "weights = {0: 1, 1: 1 / 0.003}\n",
    "model = SGDClassifier(loss=\"log_loss\", class_weight=weights)"
   ]
  },
  {
   "cell_type": "code",
   "execution_count": 12,
   "metadata": {},
   "outputs": [],
   "source": [
    "for _ in range(5):\n",
    "    model.partial_fit(X_train, y_train, [0, 1]);"
   ]
  },
  {
   "cell_type": "markdown",
   "metadata": {},
   "source": [
    "## Evaluation"
   ]
  },
  {
   "cell_type": "code",
   "execution_count": 13,
   "metadata": {},
   "outputs": [
    {
     "name": "stdout",
     "output_type": "stream",
     "text": [
      "[0.16442609 0.17050385 0.14470164 0.14468737 0.16081794 0.16933335\n",
      " 0.15998867 0.22204005 0.84266283 0.84046373]\n",
      "[0.14269985 0.18768104 0.10475206 0.10524497 0.18261067 0.17398975\n",
      " 0.17095515 0.18456311 0.74653259 0.79923717]\n"
     ]
    }
   ],
   "source": [
    "print(X_train[y_train == 0].mean(axis=0))\n",
    "print(X_train[y_train == 1].mean(axis=0))"
   ]
  },
  {
   "cell_type": "code",
   "execution_count": 14,
   "metadata": {},
   "outputs": [],
   "source": [
    "y_pred = model.predict(X_test)"
   ]
  },
  {
   "cell_type": "code",
   "execution_count": 15,
   "metadata": {},
   "outputs": [
    {
     "name": "stdout",
     "output_type": "stream",
     "text": [
      "              precision    recall  f1-score   support\n",
      "\n",
      "           0      0.998     0.889     0.940   1399285\n",
      "           1      0.009     0.345     0.018      4103\n",
      "\n",
      "    accuracy                          0.887   1403388\n",
      "   macro avg      0.503     0.617     0.479   1403388\n",
      "weighted avg      0.995     0.887     0.938   1403388\n",
      "\n"
     ]
    }
   ],
   "source": [
    "print(classification_report(y_test, y_pred, digits=3))"
   ]
  },
  {
   "cell_type": "code",
   "execution_count": 16,
   "metadata": {},
   "outputs": [
    {
     "data": {
      "text/plain": [
       "<sklearn.metrics._plot.confusion_matrix.ConfusionMatrixDisplay at 0x17f9f625be0>"
      ]
     },
     "execution_count": 16,
     "metadata": {},
     "output_type": "execute_result"
    },
    {
     "data": {
      "image/png": "[encoded data removed]",
      "text/plain": [
       "<Figure size 640x480 with 2 Axes>"
      ]
     },
     "metadata": {},
     "output_type": "display_data"
    }
   ],
   "source": [
    "ConfusionMatrixDisplay.from_predictions(y_test, y_pred, normalize='true', cmap='Blues', values_format=\".3f\")"
   ]
  },
  {
   "cell_type": "code",
   "execution_count": 17,
   "metadata": {},
   "outputs": [
    {
     "name": "stdout",
     "output_type": "stream",
     "text": [
      "0.3691249364542134\n",
      "4.102854803416633\n",
      "-7.910097083426576\n",
      "-5.397763770218305\n",
      "2.0060761164817342\n",
      "2.370644919101056\n",
      "1.939525052240538\n",
      "2.722924673606389\n",
      "-1.508545923323888\n",
      "0.14267628806487873\n"
     ]
    }
   ],
   "source": [
    "print(*model.coef_[0], sep='\\n')"
   ]
  },
  {
   "cell_type": "code",
   "execution_count": null,
   "metadata": {},
   "outputs": [],
   "source": []
  }
 ],
 "metadata": {
  "kernelspec": {
   "display_name": "Python 3 (ipykernel)",
   "language": "python",
   "name": "python3"
  },
  "language_info": {
   "codemirror_mode": {
    "name": "ipython",
    "version": 3
   },
   "file_extension": ".py",
   "mimetype": "text/x-python",
   "name": "python",
   "nbconvert_exporter": "python",
   "pygments_lexer": "ipython3",
   "version": "3.9.9"
  }
 },
 "nbformat": 4,
 "nbformat_minor": 4
}
